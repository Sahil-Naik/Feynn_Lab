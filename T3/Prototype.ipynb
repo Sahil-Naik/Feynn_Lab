{
 "cells": [
  {
   "cell_type": "markdown",
   "id": "e64546fd",
   "metadata": {},
   "source": [
    "# Importing Packages"
   ]
  },
  {
   "cell_type": "code",
   "execution_count": 49,
   "id": "544777b4",
   "metadata": {},
   "outputs": [],
   "source": [
    "import numpy as np\n",
    "import pandas as pd\n",
    "import matplotlib.pyplot as plt\n",
    "import seaborn as sns\n",
    "%matplotlib inline "
   ]
  },
  {
   "cell_type": "markdown",
   "id": "328915ff",
   "metadata": {},
   "source": [
    "# Loading Dataset"
   ]
  },
  {
   "cell_type": "code",
   "execution_count": 50,
   "id": "9cf0f402",
   "metadata": {},
   "outputs": [
    {
     "data": {
      "text/html": [
       "<div>\n",
       "<style scoped>\n",
       "    .dataframe tbody tr th:only-of-type {\n",
       "        vertical-align: middle;\n",
       "    }\n",
       "\n",
       "    .dataframe tbody tr th {\n",
       "        vertical-align: top;\n",
       "    }\n",
       "\n",
       "    .dataframe thead th {\n",
       "        text-align: right;\n",
       "    }\n",
       "</style>\n",
       "<table border=\"1\" class=\"dataframe\">\n",
       "  <thead>\n",
       "    <tr style=\"text-align: right;\">\n",
       "      <th></th>\n",
       "      <th>Unnamed: 0</th>\n",
       "      <th>car_name</th>\n",
       "      <th>brand</th>\n",
       "      <th>model</th>\n",
       "      <th>min_cost_price</th>\n",
       "      <th>max_cost_price</th>\n",
       "      <th>vehicle_age</th>\n",
       "      <th>km_driven</th>\n",
       "      <th>seller_type</th>\n",
       "      <th>fuel_type</th>\n",
       "      <th>transmission_type</th>\n",
       "      <th>mileage</th>\n",
       "      <th>engine</th>\n",
       "      <th>max_power</th>\n",
       "      <th>seats</th>\n",
       "      <th>selling_price</th>\n",
       "    </tr>\n",
       "  </thead>\n",
       "  <tbody>\n",
       "    <tr>\n",
       "      <th>0</th>\n",
       "      <td>0</td>\n",
       "      <td>Maruti Alto</td>\n",
       "      <td>Maruti</td>\n",
       "      <td>Alto</td>\n",
       "      <td>3.570039e+05</td>\n",
       "      <td>4.654015e+05</td>\n",
       "      <td>9</td>\n",
       "      <td>120000</td>\n",
       "      <td>Individual</td>\n",
       "      <td>Petrol</td>\n",
       "      <td>Manual</td>\n",
       "      <td>19.70</td>\n",
       "      <td>796</td>\n",
       "      <td>46.30</td>\n",
       "      <td>5</td>\n",
       "      <td>120000</td>\n",
       "    </tr>\n",
       "    <tr>\n",
       "      <th>1</th>\n",
       "      <td>1</td>\n",
       "      <td>Hyundai Grand</td>\n",
       "      <td>Hyundai</td>\n",
       "      <td>Grand</td>\n",
       "      <td>7.110000e+05</td>\n",
       "      <td>7.480000e+05</td>\n",
       "      <td>5</td>\n",
       "      <td>20000</td>\n",
       "      <td>Individual</td>\n",
       "      <td>Petrol</td>\n",
       "      <td>Manual</td>\n",
       "      <td>18.90</td>\n",
       "      <td>1197</td>\n",
       "      <td>82.00</td>\n",
       "      <td>5</td>\n",
       "      <td>550000</td>\n",
       "    </tr>\n",
       "    <tr>\n",
       "      <th>2</th>\n",
       "      <td>2</td>\n",
       "      <td>Hyundai i20</td>\n",
       "      <td>Hyundai</td>\n",
       "      <td>i20</td>\n",
       "      <td>8.540829e+05</td>\n",
       "      <td>1.307926e+06</td>\n",
       "      <td>11</td>\n",
       "      <td>60000</td>\n",
       "      <td>Individual</td>\n",
       "      <td>Petrol</td>\n",
       "      <td>Manual</td>\n",
       "      <td>17.00</td>\n",
       "      <td>1197</td>\n",
       "      <td>80.00</td>\n",
       "      <td>5</td>\n",
       "      <td>215000</td>\n",
       "    </tr>\n",
       "    <tr>\n",
       "      <th>3</th>\n",
       "      <td>3</td>\n",
       "      <td>Maruti Alto</td>\n",
       "      <td>Maruti</td>\n",
       "      <td>Alto</td>\n",
       "      <td>3.570039e+05</td>\n",
       "      <td>4.654015e+05</td>\n",
       "      <td>9</td>\n",
       "      <td>37000</td>\n",
       "      <td>Individual</td>\n",
       "      <td>Petrol</td>\n",
       "      <td>Manual</td>\n",
       "      <td>20.92</td>\n",
       "      <td>998</td>\n",
       "      <td>67.10</td>\n",
       "      <td>5</td>\n",
       "      <td>226000</td>\n",
       "    </tr>\n",
       "    <tr>\n",
       "      <th>4</th>\n",
       "      <td>4</td>\n",
       "      <td>Ford Ecosport</td>\n",
       "      <td>Ford</td>\n",
       "      <td>Ecosport</td>\n",
       "      <td>1.014000e+06</td>\n",
       "      <td>1.379000e+06</td>\n",
       "      <td>6</td>\n",
       "      <td>30000</td>\n",
       "      <td>Dealer</td>\n",
       "      <td>Diesel</td>\n",
       "      <td>Manual</td>\n",
       "      <td>22.77</td>\n",
       "      <td>1498</td>\n",
       "      <td>98.59</td>\n",
       "      <td>5</td>\n",
       "      <td>570000</td>\n",
       "    </tr>\n",
       "  </tbody>\n",
       "</table>\n",
       "</div>"
      ],
      "text/plain": [
       "   Unnamed: 0       car_name    brand     model  min_cost_price  \\\n",
       "0           0    Maruti Alto   Maruti      Alto    3.570039e+05   \n",
       "1           1  Hyundai Grand  Hyundai     Grand    7.110000e+05   \n",
       "2           2    Hyundai i20  Hyundai       i20    8.540829e+05   \n",
       "3           3    Maruti Alto   Maruti      Alto    3.570039e+05   \n",
       "4           4  Ford Ecosport     Ford  Ecosport    1.014000e+06   \n",
       "\n",
       "   max_cost_price  vehicle_age  km_driven seller_type fuel_type  \\\n",
       "0    4.654015e+05            9     120000  Individual    Petrol   \n",
       "1    7.480000e+05            5      20000  Individual    Petrol   \n",
       "2    1.307926e+06           11      60000  Individual    Petrol   \n",
       "3    4.654015e+05            9      37000  Individual    Petrol   \n",
       "4    1.379000e+06            6      30000      Dealer    Diesel   \n",
       "\n",
       "  transmission_type  mileage  engine  max_power  seats  selling_price  \n",
       "0            Manual    19.70     796      46.30      5         120000  \n",
       "1            Manual    18.90    1197      82.00      5         550000  \n",
       "2            Manual    17.00    1197      80.00      5         215000  \n",
       "3            Manual    20.92     998      67.10      5         226000  \n",
       "4            Manual    22.77    1498      98.59      5         570000  "
      ]
     },
     "execution_count": 50,
     "metadata": {},
     "output_type": "execute_result"
    }
   ],
   "source": [
    "df = pd.read_csv('dataset/cardekho_imputated.csv')\n",
    "df.head()"
   ]
  },
  {
   "cell_type": "code",
   "execution_count": 51,
   "id": "d4a7acc0",
   "metadata": {},
   "outputs": [
    {
     "name": "stdout",
     "output_type": "stream",
     "text": [
      "<class 'pandas.core.frame.DataFrame'>\n",
      "RangeIndex: 15411 entries, 0 to 15410\n",
      "Data columns (total 16 columns):\n",
      " #   Column             Non-Null Count  Dtype  \n",
      "---  ------             --------------  -----  \n",
      " 0   Unnamed: 0         15411 non-null  int64  \n",
      " 1   car_name           15411 non-null  object \n",
      " 2   brand              15411 non-null  object \n",
      " 3   model              15411 non-null  object \n",
      " 4   min_cost_price     15411 non-null  float64\n",
      " 5   max_cost_price     15411 non-null  float64\n",
      " 6   vehicle_age        15411 non-null  int64  \n",
      " 7   km_driven          15411 non-null  int64  \n",
      " 8   seller_type        15411 non-null  object \n",
      " 9   fuel_type          15411 non-null  object \n",
      " 10  transmission_type  15411 non-null  object \n",
      " 11  mileage            15411 non-null  float64\n",
      " 12  engine             15411 non-null  int64  \n",
      " 13  max_power          15411 non-null  float64\n",
      " 14  seats              15411 non-null  int64  \n",
      " 15  selling_price      15411 non-null  int64  \n",
      "dtypes: float64(4), int64(6), object(6)\n",
      "memory usage: 1.9+ MB\n"
     ]
    }
   ],
   "source": [
    "df.info()"
   ]
  },
  {
   "cell_type": "markdown",
   "id": "2c8de71d",
   "metadata": {},
   "source": [
    "---"
   ]
  },
  {
   "cell_type": "markdown",
   "id": "c638f38c",
   "metadata": {},
   "source": [
    "# Cleaning the Dataset"
   ]
  },
  {
   "cell_type": "code",
   "execution_count": 52,
   "id": "0c1cb1c7",
   "metadata": {},
   "outputs": [],
   "source": [
    "df[['min_cost_price','max_cost_price','mileage','max_power']]=df[['min_cost_price','max_cost_price','mileage','max_power']].astype(int)"
   ]
  },
  {
   "cell_type": "code",
   "execution_count": 53,
   "id": "7ecd4860",
   "metadata": {},
   "outputs": [
    {
     "name": "stdout",
     "output_type": "stream",
     "text": [
      "<class 'pandas.core.frame.DataFrame'>\n",
      "RangeIndex: 15411 entries, 0 to 15410\n",
      "Data columns (total 16 columns):\n",
      " #   Column             Non-Null Count  Dtype \n",
      "---  ------             --------------  ----- \n",
      " 0   Unnamed: 0         15411 non-null  int64 \n",
      " 1   car_name           15411 non-null  object\n",
      " 2   brand              15411 non-null  object\n",
      " 3   model              15411 non-null  object\n",
      " 4   min_cost_price     15411 non-null  int32 \n",
      " 5   max_cost_price     15411 non-null  int32 \n",
      " 6   vehicle_age        15411 non-null  int64 \n",
      " 7   km_driven          15411 non-null  int64 \n",
      " 8   seller_type        15411 non-null  object\n",
      " 9   fuel_type          15411 non-null  object\n",
      " 10  transmission_type  15411 non-null  object\n",
      " 11  mileage            15411 non-null  int32 \n",
      " 12  engine             15411 non-null  int64 \n",
      " 13  max_power          15411 non-null  int32 \n",
      " 14  seats              15411 non-null  int64 \n",
      " 15  selling_price      15411 non-null  int64 \n",
      "dtypes: int32(4), int64(6), object(6)\n",
      "memory usage: 1.6+ MB\n"
     ]
    }
   ],
   "source": [
    "df.info()"
   ]
  },
  {
   "cell_type": "code",
   "execution_count": 54,
   "id": "16508247",
   "metadata": {},
   "outputs": [
    {
     "data": {
      "text/html": [
       "<div>\n",
       "<style scoped>\n",
       "    .dataframe tbody tr th:only-of-type {\n",
       "        vertical-align: middle;\n",
       "    }\n",
       "\n",
       "    .dataframe tbody tr th {\n",
       "        vertical-align: top;\n",
       "    }\n",
       "\n",
       "    .dataframe thead th {\n",
       "        text-align: right;\n",
       "    }\n",
       "</style>\n",
       "<table border=\"1\" class=\"dataframe\">\n",
       "  <thead>\n",
       "    <tr style=\"text-align: right;\">\n",
       "      <th></th>\n",
       "      <th>Unnamed: 0</th>\n",
       "      <th>min_cost_price</th>\n",
       "      <th>max_cost_price</th>\n",
       "      <th>vehicle_age</th>\n",
       "      <th>km_driven</th>\n",
       "      <th>mileage</th>\n",
       "      <th>engine</th>\n",
       "      <th>max_power</th>\n",
       "      <th>seats</th>\n",
       "      <th>selling_price</th>\n",
       "    </tr>\n",
       "  </thead>\n",
       "  <tbody>\n",
       "    <tr>\n",
       "      <th>count</th>\n",
       "      <td>15411.000000</td>\n",
       "      <td>1.541100e+04</td>\n",
       "      <td>1.541100e+04</td>\n",
       "      <td>15411.000000</td>\n",
       "      <td>1.541100e+04</td>\n",
       "      <td>15411.000000</td>\n",
       "      <td>15411.000000</td>\n",
       "      <td>15411.000000</td>\n",
       "      <td>15411.000000</td>\n",
       "      <td>1.541100e+04</td>\n",
       "    </tr>\n",
       "    <tr>\n",
       "      <th>mean</th>\n",
       "      <td>9811.857699</td>\n",
       "      <td>5.892971e+06</td>\n",
       "      <td>1.962624e+06</td>\n",
       "      <td>6.036338</td>\n",
       "      <td>5.561648e+04</td>\n",
       "      <td>19.250535</td>\n",
       "      <td>1486.057751</td>\n",
       "      <td>100.245020</td>\n",
       "      <td>5.325482</td>\n",
       "      <td>7.749711e+05</td>\n",
       "    </tr>\n",
       "    <tr>\n",
       "      <th>std</th>\n",
       "      <td>5643.418542</td>\n",
       "      <td>5.669851e+07</td>\n",
       "      <td>2.889636e+06</td>\n",
       "      <td>3.013291</td>\n",
       "      <td>5.161855e+04</td>\n",
       "      <td>4.192262</td>\n",
       "      <td>521.106696</td>\n",
       "      <td>42.980942</td>\n",
       "      <td>0.807628</td>\n",
       "      <td>8.941284e+05</td>\n",
       "    </tr>\n",
       "    <tr>\n",
       "      <th>min</th>\n",
       "      <td>0.000000</td>\n",
       "      <td>3.110000e+05</td>\n",
       "      <td>4.360000e+05</td>\n",
       "      <td>0.000000</td>\n",
       "      <td>1.000000e+02</td>\n",
       "      <td>4.000000</td>\n",
       "      <td>793.000000</td>\n",
       "      <td>38.000000</td>\n",
       "      <td>0.000000</td>\n",
       "      <td>4.000000e+04</td>\n",
       "    </tr>\n",
       "    <tr>\n",
       "      <th>25%</th>\n",
       "      <td>4906.500000</td>\n",
       "      <td>6.680000e+05</td>\n",
       "      <td>8.728660e+05</td>\n",
       "      <td>4.000000</td>\n",
       "      <td>3.000000e+04</td>\n",
       "      <td>17.000000</td>\n",
       "      <td>1197.000000</td>\n",
       "      <td>74.000000</td>\n",
       "      <td>5.000000</td>\n",
       "      <td>3.850000e+05</td>\n",
       "    </tr>\n",
       "    <tr>\n",
       "      <th>50%</th>\n",
       "      <td>9872.000000</td>\n",
       "      <td>8.550000e+05</td>\n",
       "      <td>1.206000e+06</td>\n",
       "      <td>6.000000</td>\n",
       "      <td>5.000000e+04</td>\n",
       "      <td>19.000000</td>\n",
       "      <td>1248.000000</td>\n",
       "      <td>88.000000</td>\n",
       "      <td>5.000000</td>\n",
       "      <td>5.560000e+05</td>\n",
       "    </tr>\n",
       "    <tr>\n",
       "      <th>75%</th>\n",
       "      <td>14668.500000</td>\n",
       "      <td>1.284000e+06</td>\n",
       "      <td>1.743000e+06</td>\n",
       "      <td>8.000000</td>\n",
       "      <td>7.000000e+04</td>\n",
       "      <td>22.000000</td>\n",
       "      <td>1582.000000</td>\n",
       "      <td>117.000000</td>\n",
       "      <td>5.000000</td>\n",
       "      <td>8.250000e+05</td>\n",
       "    </tr>\n",
       "    <tr>\n",
       "      <th>max</th>\n",
       "      <td>19543.000000</td>\n",
       "      <td>9.880000e+08</td>\n",
       "      <td>9.110000e+07</td>\n",
       "      <td>29.000000</td>\n",
       "      <td>3.800000e+06</td>\n",
       "      <td>33.000000</td>\n",
       "      <td>6592.000000</td>\n",
       "      <td>626.000000</td>\n",
       "      <td>9.000000</td>\n",
       "      <td>3.950000e+07</td>\n",
       "    </tr>\n",
       "  </tbody>\n",
       "</table>\n",
       "</div>"
      ],
      "text/plain": [
       "         Unnamed: 0  min_cost_price  max_cost_price   vehicle_age  \\\n",
       "count  15411.000000    1.541100e+04    1.541100e+04  15411.000000   \n",
       "mean    9811.857699    5.892971e+06    1.962624e+06      6.036338   \n",
       "std     5643.418542    5.669851e+07    2.889636e+06      3.013291   \n",
       "min        0.000000    3.110000e+05    4.360000e+05      0.000000   \n",
       "25%     4906.500000    6.680000e+05    8.728660e+05      4.000000   \n",
       "50%     9872.000000    8.550000e+05    1.206000e+06      6.000000   \n",
       "75%    14668.500000    1.284000e+06    1.743000e+06      8.000000   \n",
       "max    19543.000000    9.880000e+08    9.110000e+07     29.000000   \n",
       "\n",
       "          km_driven       mileage        engine     max_power         seats  \\\n",
       "count  1.541100e+04  15411.000000  15411.000000  15411.000000  15411.000000   \n",
       "mean   5.561648e+04     19.250535   1486.057751    100.245020      5.325482   \n",
       "std    5.161855e+04      4.192262    521.106696     42.980942      0.807628   \n",
       "min    1.000000e+02      4.000000    793.000000     38.000000      0.000000   \n",
       "25%    3.000000e+04     17.000000   1197.000000     74.000000      5.000000   \n",
       "50%    5.000000e+04     19.000000   1248.000000     88.000000      5.000000   \n",
       "75%    7.000000e+04     22.000000   1582.000000    117.000000      5.000000   \n",
       "max    3.800000e+06     33.000000   6592.000000    626.000000      9.000000   \n",
       "\n",
       "       selling_price  \n",
       "count   1.541100e+04  \n",
       "mean    7.749711e+05  \n",
       "std     8.941284e+05  \n",
       "min     4.000000e+04  \n",
       "25%     3.850000e+05  \n",
       "50%     5.560000e+05  \n",
       "75%     8.250000e+05  \n",
       "max     3.950000e+07  "
      ]
     },
     "execution_count": 54,
     "metadata": {},
     "output_type": "execute_result"
    }
   ],
   "source": [
    "df.describe()"
   ]
  },
  {
   "cell_type": "code",
   "execution_count": 55,
   "id": "efa85c1d",
   "metadata": {},
   "outputs": [],
   "source": [
    "df = df[df['selling_price']<21e05]"
   ]
  },
  {
   "cell_type": "code",
   "execution_count": 56,
   "id": "6aa8698a",
   "metadata": {},
   "outputs": [],
   "source": [
    "df.to_csv('Cleaned Car Data.csv')"
   ]
  },
  {
   "cell_type": "code",
   "execution_count": 57,
   "id": "afe7ea87",
   "metadata": {},
   "outputs": [
    {
     "data": {
      "text/html": [
       "<div>\n",
       "<style scoped>\n",
       "    .dataframe tbody tr th:only-of-type {\n",
       "        vertical-align: middle;\n",
       "    }\n",
       "\n",
       "    .dataframe tbody tr th {\n",
       "        vertical-align: top;\n",
       "    }\n",
       "\n",
       "    .dataframe thead th {\n",
       "        text-align: right;\n",
       "    }\n",
       "</style>\n",
       "<table border=\"1\" class=\"dataframe\">\n",
       "  <thead>\n",
       "    <tr style=\"text-align: right;\">\n",
       "      <th></th>\n",
       "      <th>Unnamed: 0</th>\n",
       "      <th>car_name</th>\n",
       "      <th>brand</th>\n",
       "      <th>model</th>\n",
       "      <th>min_cost_price</th>\n",
       "      <th>max_cost_price</th>\n",
       "      <th>vehicle_age</th>\n",
       "      <th>km_driven</th>\n",
       "      <th>seller_type</th>\n",
       "      <th>fuel_type</th>\n",
       "      <th>transmission_type</th>\n",
       "      <th>mileage</th>\n",
       "      <th>engine</th>\n",
       "      <th>max_power</th>\n",
       "      <th>seats</th>\n",
       "      <th>selling_price</th>\n",
       "    </tr>\n",
       "  </thead>\n",
       "  <tbody>\n",
       "    <tr>\n",
       "      <th>0</th>\n",
       "      <td>0</td>\n",
       "      <td>Maruti Alto</td>\n",
       "      <td>Maruti</td>\n",
       "      <td>Alto</td>\n",
       "      <td>357003</td>\n",
       "      <td>465401</td>\n",
       "      <td>9</td>\n",
       "      <td>120000</td>\n",
       "      <td>Individual</td>\n",
       "      <td>Petrol</td>\n",
       "      <td>Manual</td>\n",
       "      <td>19</td>\n",
       "      <td>796</td>\n",
       "      <td>46</td>\n",
       "      <td>5</td>\n",
       "      <td>120000</td>\n",
       "    </tr>\n",
       "    <tr>\n",
       "      <th>1</th>\n",
       "      <td>1</td>\n",
       "      <td>Hyundai Grand</td>\n",
       "      <td>Hyundai</td>\n",
       "      <td>Grand</td>\n",
       "      <td>711000</td>\n",
       "      <td>748000</td>\n",
       "      <td>5</td>\n",
       "      <td>20000</td>\n",
       "      <td>Individual</td>\n",
       "      <td>Petrol</td>\n",
       "      <td>Manual</td>\n",
       "      <td>18</td>\n",
       "      <td>1197</td>\n",
       "      <td>82</td>\n",
       "      <td>5</td>\n",
       "      <td>550000</td>\n",
       "    </tr>\n",
       "    <tr>\n",
       "      <th>2</th>\n",
       "      <td>2</td>\n",
       "      <td>Hyundai i20</td>\n",
       "      <td>Hyundai</td>\n",
       "      <td>i20</td>\n",
       "      <td>854082</td>\n",
       "      <td>1307925</td>\n",
       "      <td>11</td>\n",
       "      <td>60000</td>\n",
       "      <td>Individual</td>\n",
       "      <td>Petrol</td>\n",
       "      <td>Manual</td>\n",
       "      <td>17</td>\n",
       "      <td>1197</td>\n",
       "      <td>80</td>\n",
       "      <td>5</td>\n",
       "      <td>215000</td>\n",
       "    </tr>\n",
       "    <tr>\n",
       "      <th>3</th>\n",
       "      <td>3</td>\n",
       "      <td>Maruti Alto</td>\n",
       "      <td>Maruti</td>\n",
       "      <td>Alto</td>\n",
       "      <td>357003</td>\n",
       "      <td>465401</td>\n",
       "      <td>9</td>\n",
       "      <td>37000</td>\n",
       "      <td>Individual</td>\n",
       "      <td>Petrol</td>\n",
       "      <td>Manual</td>\n",
       "      <td>20</td>\n",
       "      <td>998</td>\n",
       "      <td>67</td>\n",
       "      <td>5</td>\n",
       "      <td>226000</td>\n",
       "    </tr>\n",
       "    <tr>\n",
       "      <th>4</th>\n",
       "      <td>4</td>\n",
       "      <td>Ford Ecosport</td>\n",
       "      <td>Ford</td>\n",
       "      <td>Ecosport</td>\n",
       "      <td>1014000</td>\n",
       "      <td>1379000</td>\n",
       "      <td>6</td>\n",
       "      <td>30000</td>\n",
       "      <td>Dealer</td>\n",
       "      <td>Diesel</td>\n",
       "      <td>Manual</td>\n",
       "      <td>22</td>\n",
       "      <td>1498</td>\n",
       "      <td>98</td>\n",
       "      <td>5</td>\n",
       "      <td>570000</td>\n",
       "    </tr>\n",
       "    <tr>\n",
       "      <th>...</th>\n",
       "      <td>...</td>\n",
       "      <td>...</td>\n",
       "      <td>...</td>\n",
       "      <td>...</td>\n",
       "      <td>...</td>\n",
       "      <td>...</td>\n",
       "      <td>...</td>\n",
       "      <td>...</td>\n",
       "      <td>...</td>\n",
       "      <td>...</td>\n",
       "      <td>...</td>\n",
       "      <td>...</td>\n",
       "      <td>...</td>\n",
       "      <td>...</td>\n",
       "      <td>...</td>\n",
       "      <td>...</td>\n",
       "    </tr>\n",
       "    <tr>\n",
       "      <th>14654</th>\n",
       "      <td>19537</td>\n",
       "      <td>Hyundai i10</td>\n",
       "      <td>Hyundai</td>\n",
       "      <td>i10</td>\n",
       "      <td>698320</td>\n",
       "      <td>729333</td>\n",
       "      <td>9</td>\n",
       "      <td>10723</td>\n",
       "      <td>Dealer</td>\n",
       "      <td>Petrol</td>\n",
       "      <td>Manual</td>\n",
       "      <td>19</td>\n",
       "      <td>1086</td>\n",
       "      <td>68</td>\n",
       "      <td>5</td>\n",
       "      <td>250000</td>\n",
       "    </tr>\n",
       "    <tr>\n",
       "      <th>14655</th>\n",
       "      <td>19540</td>\n",
       "      <td>Maruti Ertiga</td>\n",
       "      <td>Maruti</td>\n",
       "      <td>Ertiga</td>\n",
       "      <td>926776</td>\n",
       "      <td>1149968</td>\n",
       "      <td>2</td>\n",
       "      <td>18000</td>\n",
       "      <td>Dealer</td>\n",
       "      <td>Petrol</td>\n",
       "      <td>Manual</td>\n",
       "      <td>17</td>\n",
       "      <td>1373</td>\n",
       "      <td>91</td>\n",
       "      <td>7</td>\n",
       "      <td>925000</td>\n",
       "    </tr>\n",
       "    <tr>\n",
       "      <th>14656</th>\n",
       "      <td>19541</td>\n",
       "      <td>Skoda Rapid</td>\n",
       "      <td>Skoda</td>\n",
       "      <td>Rapid</td>\n",
       "      <td>892632</td>\n",
       "      <td>1563551</td>\n",
       "      <td>6</td>\n",
       "      <td>67000</td>\n",
       "      <td>Dealer</td>\n",
       "      <td>Diesel</td>\n",
       "      <td>Manual</td>\n",
       "      <td>21</td>\n",
       "      <td>1498</td>\n",
       "      <td>103</td>\n",
       "      <td>5</td>\n",
       "      <td>425000</td>\n",
       "    </tr>\n",
       "    <tr>\n",
       "      <th>14657</th>\n",
       "      <td>19542</td>\n",
       "      <td>Mahindra XUV500</td>\n",
       "      <td>Mahindra</td>\n",
       "      <td>XUV500</td>\n",
       "      <td>1783000</td>\n",
       "      <td>2491000</td>\n",
       "      <td>5</td>\n",
       "      <td>3800000</td>\n",
       "      <td>Dealer</td>\n",
       "      <td>Diesel</td>\n",
       "      <td>Manual</td>\n",
       "      <td>16</td>\n",
       "      <td>2179</td>\n",
       "      <td>140</td>\n",
       "      <td>7</td>\n",
       "      <td>1225000</td>\n",
       "    </tr>\n",
       "    <tr>\n",
       "      <th>14658</th>\n",
       "      <td>19543</td>\n",
       "      <td>Honda City</td>\n",
       "      <td>Honda</td>\n",
       "      <td>City</td>\n",
       "      <td>1330978</td>\n",
       "      <td>1707437</td>\n",
       "      <td>2</td>\n",
       "      <td>13000</td>\n",
       "      <td>Dealer</td>\n",
       "      <td>Petrol</td>\n",
       "      <td>Automatic</td>\n",
       "      <td>18</td>\n",
       "      <td>1497</td>\n",
       "      <td>117</td>\n",
       "      <td>5</td>\n",
       "      <td>1200000</td>\n",
       "    </tr>\n",
       "  </tbody>\n",
       "</table>\n",
       "<p>14659 rows × 16 columns</p>\n",
       "</div>"
      ],
      "text/plain": [
       "       Unnamed: 0         car_name     brand     model  min_cost_price  \\\n",
       "0               0      Maruti Alto    Maruti      Alto          357003   \n",
       "1               1    Hyundai Grand   Hyundai     Grand          711000   \n",
       "2               2      Hyundai i20   Hyundai       i20          854082   \n",
       "3               3      Maruti Alto    Maruti      Alto          357003   \n",
       "4               4    Ford Ecosport      Ford  Ecosport         1014000   \n",
       "...           ...              ...       ...       ...             ...   \n",
       "14654       19537      Hyundai i10   Hyundai       i10          698320   \n",
       "14655       19540    Maruti Ertiga    Maruti    Ertiga          926776   \n",
       "14656       19541      Skoda Rapid     Skoda     Rapid          892632   \n",
       "14657       19542  Mahindra XUV500  Mahindra    XUV500         1783000   \n",
       "14658       19543       Honda City     Honda      City         1330978   \n",
       "\n",
       "       max_cost_price  vehicle_age  km_driven seller_type fuel_type  \\\n",
       "0              465401            9     120000  Individual    Petrol   \n",
       "1              748000            5      20000  Individual    Petrol   \n",
       "2             1307925           11      60000  Individual    Petrol   \n",
       "3              465401            9      37000  Individual    Petrol   \n",
       "4             1379000            6      30000      Dealer    Diesel   \n",
       "...               ...          ...        ...         ...       ...   \n",
       "14654          729333            9      10723      Dealer    Petrol   \n",
       "14655         1149968            2      18000      Dealer    Petrol   \n",
       "14656         1563551            6      67000      Dealer    Diesel   \n",
       "14657         2491000            5    3800000      Dealer    Diesel   \n",
       "14658         1707437            2      13000      Dealer    Petrol   \n",
       "\n",
       "      transmission_type  mileage  engine  max_power  seats  selling_price  \n",
       "0                Manual       19     796         46      5         120000  \n",
       "1                Manual       18    1197         82      5         550000  \n",
       "2                Manual       17    1197         80      5         215000  \n",
       "3                Manual       20     998         67      5         226000  \n",
       "4                Manual       22    1498         98      5         570000  \n",
       "...                 ...      ...     ...        ...    ...            ...  \n",
       "14654            Manual       19    1086         68      5         250000  \n",
       "14655            Manual       17    1373         91      7         925000  \n",
       "14656            Manual       21    1498        103      5         425000  \n",
       "14657            Manual       16    2179        140      7        1225000  \n",
       "14658         Automatic       18    1497        117      5        1200000  \n",
       "\n",
       "[14659 rows x 16 columns]"
      ]
     },
     "execution_count": 57,
     "metadata": {},
     "output_type": "execute_result"
    }
   ],
   "source": [
    "df.reset_index(drop=True)"
   ]
  },
  {
   "cell_type": "code",
   "execution_count": 58,
   "id": "ea4341d9",
   "metadata": {},
   "outputs": [
    {
     "data": {
      "text/plain": [
       "Index(['Unnamed: 0', 'car_name', 'brand', 'model', 'min_cost_price',\n",
       "       'max_cost_price', 'vehicle_age', 'km_driven', 'seller_type',\n",
       "       'fuel_type', 'transmission_type', 'mileage', 'engine', 'max_power',\n",
       "       'seats', 'selling_price'],\n",
       "      dtype='object')"
      ]
     },
     "execution_count": 58,
     "metadata": {},
     "output_type": "execute_result"
    }
   ],
   "source": [
    "df.columns"
   ]
  },
  {
   "cell_type": "code",
   "execution_count": 59,
   "id": "f1c61677",
   "metadata": {},
   "outputs": [
    {
     "data": {
      "text/html": [
       "<div>\n",
       "<style scoped>\n",
       "    .dataframe tbody tr th:only-of-type {\n",
       "        vertical-align: middle;\n",
       "    }\n",
       "\n",
       "    .dataframe tbody tr th {\n",
       "        vertical-align: top;\n",
       "    }\n",
       "\n",
       "    .dataframe thead th {\n",
       "        text-align: right;\n",
       "    }\n",
       "</style>\n",
       "<table border=\"1\" class=\"dataframe\">\n",
       "  <thead>\n",
       "    <tr style=\"text-align: right;\">\n",
       "      <th></th>\n",
       "      <th>car_name</th>\n",
       "      <th>brand</th>\n",
       "      <th>model</th>\n",
       "      <th>min_cost_price</th>\n",
       "      <th>max_cost_price</th>\n",
       "      <th>vehicle_age</th>\n",
       "      <th>km_driven</th>\n",
       "      <th>seller_type</th>\n",
       "      <th>fuel_type</th>\n",
       "      <th>transmission_type</th>\n",
       "      <th>mileage</th>\n",
       "      <th>engine</th>\n",
       "      <th>max_power</th>\n",
       "      <th>seats</th>\n",
       "      <th>selling_price</th>\n",
       "    </tr>\n",
       "  </thead>\n",
       "  <tbody>\n",
       "    <tr>\n",
       "      <th>0</th>\n",
       "      <td>Maruti Alto</td>\n",
       "      <td>Maruti</td>\n",
       "      <td>Alto</td>\n",
       "      <td>357003</td>\n",
       "      <td>465401</td>\n",
       "      <td>9</td>\n",
       "      <td>120000</td>\n",
       "      <td>Individual</td>\n",
       "      <td>Petrol</td>\n",
       "      <td>Manual</td>\n",
       "      <td>19</td>\n",
       "      <td>796</td>\n",
       "      <td>46</td>\n",
       "      <td>5</td>\n",
       "      <td>120000</td>\n",
       "    </tr>\n",
       "    <tr>\n",
       "      <th>1</th>\n",
       "      <td>Hyundai Grand</td>\n",
       "      <td>Hyundai</td>\n",
       "      <td>Grand</td>\n",
       "      <td>711000</td>\n",
       "      <td>748000</td>\n",
       "      <td>5</td>\n",
       "      <td>20000</td>\n",
       "      <td>Individual</td>\n",
       "      <td>Petrol</td>\n",
       "      <td>Manual</td>\n",
       "      <td>18</td>\n",
       "      <td>1197</td>\n",
       "      <td>82</td>\n",
       "      <td>5</td>\n",
       "      <td>550000</td>\n",
       "    </tr>\n",
       "    <tr>\n",
       "      <th>2</th>\n",
       "      <td>Hyundai i20</td>\n",
       "      <td>Hyundai</td>\n",
       "      <td>i20</td>\n",
       "      <td>854082</td>\n",
       "      <td>1307925</td>\n",
       "      <td>11</td>\n",
       "      <td>60000</td>\n",
       "      <td>Individual</td>\n",
       "      <td>Petrol</td>\n",
       "      <td>Manual</td>\n",
       "      <td>17</td>\n",
       "      <td>1197</td>\n",
       "      <td>80</td>\n",
       "      <td>5</td>\n",
       "      <td>215000</td>\n",
       "    </tr>\n",
       "    <tr>\n",
       "      <th>3</th>\n",
       "      <td>Maruti Alto</td>\n",
       "      <td>Maruti</td>\n",
       "      <td>Alto</td>\n",
       "      <td>357003</td>\n",
       "      <td>465401</td>\n",
       "      <td>9</td>\n",
       "      <td>37000</td>\n",
       "      <td>Individual</td>\n",
       "      <td>Petrol</td>\n",
       "      <td>Manual</td>\n",
       "      <td>20</td>\n",
       "      <td>998</td>\n",
       "      <td>67</td>\n",
       "      <td>5</td>\n",
       "      <td>226000</td>\n",
       "    </tr>\n",
       "    <tr>\n",
       "      <th>4</th>\n",
       "      <td>Ford Ecosport</td>\n",
       "      <td>Ford</td>\n",
       "      <td>Ecosport</td>\n",
       "      <td>1014000</td>\n",
       "      <td>1379000</td>\n",
       "      <td>6</td>\n",
       "      <td>30000</td>\n",
       "      <td>Dealer</td>\n",
       "      <td>Diesel</td>\n",
       "      <td>Manual</td>\n",
       "      <td>22</td>\n",
       "      <td>1498</td>\n",
       "      <td>98</td>\n",
       "      <td>5</td>\n",
       "      <td>570000</td>\n",
       "    </tr>\n",
       "    <tr>\n",
       "      <th>...</th>\n",
       "      <td>...</td>\n",
       "      <td>...</td>\n",
       "      <td>...</td>\n",
       "      <td>...</td>\n",
       "      <td>...</td>\n",
       "      <td>...</td>\n",
       "      <td>...</td>\n",
       "      <td>...</td>\n",
       "      <td>...</td>\n",
       "      <td>...</td>\n",
       "      <td>...</td>\n",
       "      <td>...</td>\n",
       "      <td>...</td>\n",
       "      <td>...</td>\n",
       "      <td>...</td>\n",
       "    </tr>\n",
       "    <tr>\n",
       "      <th>15406</th>\n",
       "      <td>Hyundai i10</td>\n",
       "      <td>Hyundai</td>\n",
       "      <td>i10</td>\n",
       "      <td>698320</td>\n",
       "      <td>729333</td>\n",
       "      <td>9</td>\n",
       "      <td>10723</td>\n",
       "      <td>Dealer</td>\n",
       "      <td>Petrol</td>\n",
       "      <td>Manual</td>\n",
       "      <td>19</td>\n",
       "      <td>1086</td>\n",
       "      <td>68</td>\n",
       "      <td>5</td>\n",
       "      <td>250000</td>\n",
       "    </tr>\n",
       "    <tr>\n",
       "      <th>15407</th>\n",
       "      <td>Maruti Ertiga</td>\n",
       "      <td>Maruti</td>\n",
       "      <td>Ertiga</td>\n",
       "      <td>926776</td>\n",
       "      <td>1149968</td>\n",
       "      <td>2</td>\n",
       "      <td>18000</td>\n",
       "      <td>Dealer</td>\n",
       "      <td>Petrol</td>\n",
       "      <td>Manual</td>\n",
       "      <td>17</td>\n",
       "      <td>1373</td>\n",
       "      <td>91</td>\n",
       "      <td>7</td>\n",
       "      <td>925000</td>\n",
       "    </tr>\n",
       "    <tr>\n",
       "      <th>15408</th>\n",
       "      <td>Skoda Rapid</td>\n",
       "      <td>Skoda</td>\n",
       "      <td>Rapid</td>\n",
       "      <td>892632</td>\n",
       "      <td>1563551</td>\n",
       "      <td>6</td>\n",
       "      <td>67000</td>\n",
       "      <td>Dealer</td>\n",
       "      <td>Diesel</td>\n",
       "      <td>Manual</td>\n",
       "      <td>21</td>\n",
       "      <td>1498</td>\n",
       "      <td>103</td>\n",
       "      <td>5</td>\n",
       "      <td>425000</td>\n",
       "    </tr>\n",
       "    <tr>\n",
       "      <th>15409</th>\n",
       "      <td>Mahindra XUV500</td>\n",
       "      <td>Mahindra</td>\n",
       "      <td>XUV500</td>\n",
       "      <td>1783000</td>\n",
       "      <td>2491000</td>\n",
       "      <td>5</td>\n",
       "      <td>3800000</td>\n",
       "      <td>Dealer</td>\n",
       "      <td>Diesel</td>\n",
       "      <td>Manual</td>\n",
       "      <td>16</td>\n",
       "      <td>2179</td>\n",
       "      <td>140</td>\n",
       "      <td>7</td>\n",
       "      <td>1225000</td>\n",
       "    </tr>\n",
       "    <tr>\n",
       "      <th>15410</th>\n",
       "      <td>Honda City</td>\n",
       "      <td>Honda</td>\n",
       "      <td>City</td>\n",
       "      <td>1330978</td>\n",
       "      <td>1707437</td>\n",
       "      <td>2</td>\n",
       "      <td>13000</td>\n",
       "      <td>Dealer</td>\n",
       "      <td>Petrol</td>\n",
       "      <td>Automatic</td>\n",
       "      <td>18</td>\n",
       "      <td>1497</td>\n",
       "      <td>117</td>\n",
       "      <td>5</td>\n",
       "      <td>1200000</td>\n",
       "    </tr>\n",
       "  </tbody>\n",
       "</table>\n",
       "<p>14659 rows × 15 columns</p>\n",
       "</div>"
      ],
      "text/plain": [
       "              car_name     brand     model  min_cost_price  max_cost_price  \\\n",
       "0          Maruti Alto    Maruti      Alto          357003          465401   \n",
       "1        Hyundai Grand   Hyundai     Grand          711000          748000   \n",
       "2          Hyundai i20   Hyundai       i20          854082         1307925   \n",
       "3          Maruti Alto    Maruti      Alto          357003          465401   \n",
       "4        Ford Ecosport      Ford  Ecosport         1014000         1379000   \n",
       "...                ...       ...       ...             ...             ...   \n",
       "15406      Hyundai i10   Hyundai       i10          698320          729333   \n",
       "15407    Maruti Ertiga    Maruti    Ertiga          926776         1149968   \n",
       "15408      Skoda Rapid     Skoda     Rapid          892632         1563551   \n",
       "15409  Mahindra XUV500  Mahindra    XUV500         1783000         2491000   \n",
       "15410       Honda City     Honda      City         1330978         1707437   \n",
       "\n",
       "       vehicle_age  km_driven seller_type fuel_type transmission_type  \\\n",
       "0                9     120000  Individual    Petrol            Manual   \n",
       "1                5      20000  Individual    Petrol            Manual   \n",
       "2               11      60000  Individual    Petrol            Manual   \n",
       "3                9      37000  Individual    Petrol            Manual   \n",
       "4                6      30000      Dealer    Diesel            Manual   \n",
       "...            ...        ...         ...       ...               ...   \n",
       "15406            9      10723      Dealer    Petrol            Manual   \n",
       "15407            2      18000      Dealer    Petrol            Manual   \n",
       "15408            6      67000      Dealer    Diesel            Manual   \n",
       "15409            5    3800000      Dealer    Diesel            Manual   \n",
       "15410            2      13000      Dealer    Petrol         Automatic   \n",
       "\n",
       "       mileage  engine  max_power  seats  selling_price  \n",
       "0           19     796         46      5         120000  \n",
       "1           18    1197         82      5         550000  \n",
       "2           17    1197         80      5         215000  \n",
       "3           20     998         67      5         226000  \n",
       "4           22    1498         98      5         570000  \n",
       "...        ...     ...        ...    ...            ...  \n",
       "15406       19    1086         68      5         250000  \n",
       "15407       17    1373         91      7         925000  \n",
       "15408       21    1498        103      5         425000  \n",
       "15409       16    2179        140      7        1225000  \n",
       "15410       18    1497        117      5        1200000  \n",
       "\n",
       "[14659 rows x 15 columns]"
      ]
     },
     "execution_count": 59,
     "metadata": {},
     "output_type": "execute_result"
    }
   ],
   "source": [
    "df.drop(columns='Unnamed: 0')"
   ]
  },
  {
   "cell_type": "markdown",
   "id": "294e707a",
   "metadata": {},
   "source": [
    "---"
   ]
  },
  {
   "cell_type": "markdown",
   "id": "736d98a3",
   "metadata": {},
   "source": [
    "# EDA & Visualizations"
   ]
  },
  {
   "cell_type": "markdown",
   "id": "8dd806b5",
   "metadata": {},
   "source": [
    "## 1. Finding the most common car sold"
   ]
  },
  {
   "cell_type": "code",
   "execution_count": 60,
   "id": "58157f9c",
   "metadata": {},
   "outputs": [
    {
     "name": "stdout",
     "output_type": "stream",
     "text": [
      "Hyundai i20           906\n",
      "Maruti Swift Dzire    890\n",
      "Maruti Swift          781\n",
      "Maruti Alto           778\n",
      "Honda City            757\n",
      "Maruti Wagon R        717\n",
      "Hyundai Grand         580\n",
      "Toyota Innova         530\n",
      "Hyundai Verna         492\n",
      "Hyundai i10           410\n",
      "Ford Ecosport         374\n",
      "Volkswagen Polo       373\n",
      "Maruti Baleno         364\n",
      "Honda Amaze           362\n",
      "Maruti Ciaz           346\n",
      "Maruti Ertiga         343\n",
      "Hyundai Creta         336\n",
      "Mahindra XUV500       330\n",
      "Renault KWID          306\n",
      "Maruti Vitara         295\n",
      "Name: car_name, dtype: int64\n"
     ]
    },
    {
     "data": {
      "text/plain": [
       "Text(0, 0.5, 'Count')"
      ]
     },
     "execution_count": 60,
     "metadata": {},
     "output_type": "execute_result"
    },
    {
     "data": {
      "image/png": "[encoded data removed]",
      "text/plain": [
       "<Figure size 1008x504 with 1 Axes>"
      ]
     },
     "metadata": {
      "needs_background": "light"
     },
     "output_type": "display_data"
    }
   ],
   "source": [
    "font2 = {'family':'bahnschrift','color':'black','size':20}\n",
    "\n",
    "print(df.car_name.value_counts()[0:20])\n",
    "df.car_name.value_counts()[0:20].plot(kind = 'bar', figsize=(14,7))\n",
    "plt.xlabel(\"Car model\", fontdict=font2)\n",
    "plt.ylabel(\"Count\", fontdict=font2)"
   ]
  },
  {
   "cell_type": "markdown",
   "id": "9462edb7",
   "metadata": {},
   "source": [
    "### From the visulaization above we can say that the most common car model that has been re-selled is 'Hyundia i20' and the least re-selled car model is 'Maruti Vitara'."
   ]
  },
  {
   "cell_type": "markdown",
   "id": "9b70232d",
   "metadata": {},
   "source": [
    "### i. Average selling price of Hyundia i20"
   ]
  },
  {
   "cell_type": "code",
   "execution_count": 61,
   "id": "b33be7f1",
   "metadata": {},
   "outputs": [
    {
     "name": "stdout",
     "output_type": "stream",
     "text": [
      "Average selling price of Hyundia i20 is Rs. 543604\n"
     ]
    }
   ],
   "source": [
    "Hi20 = df[df['car_name'] == 'Hyundai i20']['selling_price'].mean()\n",
    "print(\"Average selling price of Hyundia i20 is Rs. {}\".format(round(Hi20)))"
   ]
  },
  {
   "cell_type": "markdown",
   "id": "b4b7e1dc",
   "metadata": {},
   "source": [
    "### ii. Average selling price of Maruti Vitara"
   ]
  },
  {
   "cell_type": "code",
   "execution_count": 62,
   "id": "c9af2d69",
   "metadata": {},
   "outputs": [
    {
     "name": "stdout",
     "output_type": "stream",
     "text": [
      "Average selling price of Maruti Vitara is Rs. 830597\n"
     ]
    }
   ],
   "source": [
    "MV = df[df['car_name'] == 'Maruti Vitara']['selling_price'].mean()\n",
    "print(\"Average selling price of Maruti Vitara is Rs. {}\".format(round(MV)))"
   ]
  },
  {
   "cell_type": "markdown",
   "id": "e14f4cfa",
   "metadata": {},
   "source": [
    "## 2. Finding the common car brands"
   ]
  },
  {
   "cell_type": "code",
   "execution_count": 63,
   "id": "1ac057a2",
   "metadata": {},
   "outputs": [
    {
     "data": {
      "text/plain": [
       "Maruti           4992\n",
       "Hyundai          2981\n",
       "Honda            1479\n",
       "Mahindra         1008\n",
       "Ford              758\n",
       "Toyota            700\n",
       "Volkswagen        620\n",
       "Renault           536\n",
       "Tata              430\n",
       "Skoda             323\n",
       "BMW               198\n",
       "Mercedes-Benz     183\n",
       "Datsun            170\n",
       "Audi              137\n",
       "Jeep               38\n",
       "Kia                28\n",
       "MG                 19\n",
       "Jaguar             16\n",
       "Nissan             11\n",
       "Mini               11\n",
       "Isuzu               7\n",
       "Volvo               6\n",
       "Land Rover          4\n",
       "ISUZU               2\n",
       "Force               1\n",
       "Porsche             1\n",
       "Name: brand, dtype: int64"
      ]
     },
     "execution_count": 63,
     "metadata": {},
     "output_type": "execute_result"
    }
   ],
   "source": [
    "df.brand.value_counts()"
   ]
  },
  {
   "cell_type": "code",
   "execution_count": 64,
   "id": "f8418417",
   "metadata": {},
   "outputs": [
    {
     "data": {
      "text/plain": [
       "Text(0, 0.5, 'Count')"
      ]
     },
     "execution_count": 64,
     "metadata": {},
     "output_type": "execute_result"
    },
    {
     "data": {
      "image/png": "[encoded data removed]",
      "text/plain": [
       "<Figure size 1080x504 with 1 Axes>"
      ]
     },
     "metadata": {
      "needs_background": "light"
     },
     "output_type": "display_data"
    }
   ],
   "source": [
    "df.brand.value_counts().plot(kind = 'bar', figsize=(15,7))\n",
    "plt.xlabel(\"Car Brand\", fontdict=font2)\n",
    "plt.ylabel(\"Count\", fontdict=font2)"
   ]
  },
  {
   "cell_type": "markdown",
   "id": "2437504a",
   "metadata": {},
   "source": [
    "### Even though the Maruti Vitara is the least re-selled common car, but there are more Maruti car models in the selling market as compared to other brands"
   ]
  },
  {
   "cell_type": "markdown",
   "id": "8f8a9267",
   "metadata": {},
   "source": [
    "## 3. How old most of the cars are being sold"
   ]
  },
  {
   "cell_type": "code",
   "execution_count": 65,
   "id": "10747a70",
   "metadata": {},
   "outputs": [
    {
     "data": {
      "text/plain": [
       "Text(0, 0.5, 'Count')"
      ]
     },
     "execution_count": 65,
     "metadata": {},
     "output_type": "execute_result"
    },
    {
     "data": {
      "image/png": "[encoded data removed]",
      "text/plain": [
       "<Figure size 1080x432 with 1 Axes>"
      ]
     },
     "metadata": {
      "needs_background": "light"
     },
     "output_type": "display_data"
    }
   ],
   "source": [
    "df['vehicle_age'].value_counts().plot(kind = 'bar', figsize=(15,6))\n",
    "plt.xlabel('Vehicle Age', fontdict=font2)\n",
    "plt.ylabel('Count', fontdict=font2)"
   ]
  },
  {
   "cell_type": "markdown",
   "id": "d7b9f96f",
   "metadata": {},
   "source": [
    "### Most of the cars being sold are 4 or 5 years old."
   ]
  },
  {
   "cell_type": "markdown",
   "id": "fbf04836",
   "metadata": {},
   "source": [
    "## 4. Finding average mileage of car brands"
   ]
  },
  {
   "cell_type": "code",
   "execution_count": 66,
   "id": "db91ef21",
   "metadata": {},
   "outputs": [
    {
     "data": {
      "text/plain": [
       "brand\n",
       "Maruti           21.950721\n",
       "Renault          21.843284\n",
       "Datsun           20.652941\n",
       "Ford             19.879947\n",
       "Honda            19.527383\n",
       "Tata             19.281395\n",
       "Hyundai          19.099631\n",
       "Mini             18.636364\n",
       "Volkswagen       18.396774\n",
       "Skoda            17.294118\n",
       "Kia              17.107143\n",
       "Force            17.000000\n",
       "Jeep             16.473684\n",
       "BMW              16.146465\n",
       "Audi             15.905109\n",
       "Nissan           15.818182\n",
       "Mahindra         15.566468\n",
       "Jaguar           15.312500\n",
       "MG               14.894737\n",
       "ISUZU            13.000000\n",
       "Mercedes-Benz    12.972678\n",
       "Volvo            12.500000\n",
       "Toyota           12.471429\n",
       "Land Rover       12.000000\n",
       "Isuzu            12.000000\n",
       "Porsche           8.000000\n",
       "Name: mileage, dtype: float64"
      ]
     },
     "execution_count": 66,
     "metadata": {},
     "output_type": "execute_result"
    }
   ],
   "source": [
    "df.groupby(['brand'])['mileage'].mean().sort_values(ascending = False)"
   ]
  },
  {
   "cell_type": "code",
   "execution_count": 67,
   "id": "49b5aceb",
   "metadata": {},
   "outputs": [
    {
     "data": {
      "text/plain": [
       "Text(0, 0.5, 'Average Mileage')"
      ]
     },
     "execution_count": 67,
     "metadata": {},
     "output_type": "execute_result"
    },
    {
     "data": {
      "image/png": "[encoded data removed]",
      "text/plain": [
       "<Figure size 1080x504 with 1 Axes>"
      ]
     },
     "metadata": {
      "needs_background": "light"
     },
     "output_type": "display_data"
    }
   ],
   "source": [
    "df.groupby(['brand'])['mileage'].mean().sort_values(ascending = False).plot(kind = 'bar', figsize=(15,7))\n",
    "plt.xlabel('Car Brand', fontdict=font2)\n",
    "plt.ylabel('Average Mileage', fontdict=font2)"
   ]
  },
  {
   "cell_type": "markdown",
   "id": "55120215",
   "metadata": {},
   "source": [
    "### The average mileage of Maruti cars is much more greater than other car brands.\n",
    "**Maruti has the best mileage of all brands = 22.45 kms/lit<br>\n",
    "Renault and Datsun stood next with average of 22 kms/lit and 21.21 kms/lit respectively.**"
   ]
  },
  {
   "cell_type": "markdown",
   "id": "0081c330",
   "metadata": {},
   "source": [
    "## 5. Top 10 car model with highest average"
   ]
  },
  {
   "cell_type": "code",
   "execution_count": 68,
   "id": "7ce90c83",
   "metadata": {},
   "outputs": [
    {
     "data": {
      "text/html": [
       "<div>\n",
       "<style scoped>\n",
       "    .dataframe tbody tr th:only-of-type {\n",
       "        vertical-align: middle;\n",
       "    }\n",
       "\n",
       "    .dataframe tbody tr th {\n",
       "        vertical-align: top;\n",
       "    }\n",
       "\n",
       "    .dataframe thead th {\n",
       "        text-align: right;\n",
       "    }\n",
       "</style>\n",
       "<table border=\"1\" class=\"dataframe\">\n",
       "  <thead>\n",
       "    <tr style=\"text-align: right;\">\n",
       "      <th></th>\n",
       "      <th>Unnamed: 0</th>\n",
       "      <th>car_name</th>\n",
       "      <th>brand</th>\n",
       "      <th>model</th>\n",
       "      <th>min_cost_price</th>\n",
       "      <th>max_cost_price</th>\n",
       "      <th>vehicle_age</th>\n",
       "      <th>km_driven</th>\n",
       "      <th>seller_type</th>\n",
       "      <th>fuel_type</th>\n",
       "      <th>transmission_type</th>\n",
       "      <th>mileage</th>\n",
       "      <th>engine</th>\n",
       "      <th>max_power</th>\n",
       "      <th>seats</th>\n",
       "      <th>selling_price</th>\n",
       "    </tr>\n",
       "  </thead>\n",
       "  <tbody>\n",
       "    <tr>\n",
       "      <th>11727</th>\n",
       "      <td>14883</td>\n",
       "      <td>Maruti Wagon R</td>\n",
       "      <td>Maruti</td>\n",
       "      <td>Wagon R</td>\n",
       "      <td>545348</td>\n",
       "      <td>691769</td>\n",
       "      <td>4</td>\n",
       "      <td>30000</td>\n",
       "      <td>Individual</td>\n",
       "      <td>CNG</td>\n",
       "      <td>Manual</td>\n",
       "      <td>33</td>\n",
       "      <td>998</td>\n",
       "      <td>67</td>\n",
       "      <td>5</td>\n",
       "      <td>450000</td>\n",
       "    </tr>\n",
       "    <tr>\n",
       "      <th>12259</th>\n",
       "      <td>15540</td>\n",
       "      <td>Maruti Alto</td>\n",
       "      <td>Maruti</td>\n",
       "      <td>Alto</td>\n",
       "      <td>497000</td>\n",
       "      <td>502000</td>\n",
       "      <td>4</td>\n",
       "      <td>20700</td>\n",
       "      <td>Dealer</td>\n",
       "      <td>CNG</td>\n",
       "      <td>Manual</td>\n",
       "      <td>33</td>\n",
       "      <td>796</td>\n",
       "      <td>40</td>\n",
       "      <td>4</td>\n",
       "      <td>381000</td>\n",
       "    </tr>\n",
       "    <tr>\n",
       "      <th>12696</th>\n",
       "      <td>16102</td>\n",
       "      <td>Maruti Wagon R</td>\n",
       "      <td>Maruti</td>\n",
       "      <td>Wagon R</td>\n",
       "      <td>610000</td>\n",
       "      <td>618000</td>\n",
       "      <td>5</td>\n",
       "      <td>53000</td>\n",
       "      <td>Dealer</td>\n",
       "      <td>CNG</td>\n",
       "      <td>Manual</td>\n",
       "      <td>33</td>\n",
       "      <td>998</td>\n",
       "      <td>67</td>\n",
       "      <td>5</td>\n",
       "      <td>380000</td>\n",
       "    </tr>\n",
       "    <tr>\n",
       "      <th>9960</th>\n",
       "      <td>12746</td>\n",
       "      <td>Maruti Wagon R</td>\n",
       "      <td>Maruti</td>\n",
       "      <td>Wagon R</td>\n",
       "      <td>545348</td>\n",
       "      <td>691769</td>\n",
       "      <td>3</td>\n",
       "      <td>55000</td>\n",
       "      <td>Dealer</td>\n",
       "      <td>CNG</td>\n",
       "      <td>Manual</td>\n",
       "      <td>33</td>\n",
       "      <td>998</td>\n",
       "      <td>67</td>\n",
       "      <td>5</td>\n",
       "      <td>380000</td>\n",
       "    </tr>\n",
       "    <tr>\n",
       "      <th>13800</th>\n",
       "      <td>17518</td>\n",
       "      <td>Maruti Alto</td>\n",
       "      <td>Maruti</td>\n",
       "      <td>Alto</td>\n",
       "      <td>497000</td>\n",
       "      <td>502000</td>\n",
       "      <td>5</td>\n",
       "      <td>77658</td>\n",
       "      <td>Dealer</td>\n",
       "      <td>CNG</td>\n",
       "      <td>Manual</td>\n",
       "      <td>33</td>\n",
       "      <td>796</td>\n",
       "      <td>40</td>\n",
       "      <td>4</td>\n",
       "      <td>325000</td>\n",
       "    </tr>\n",
       "    <tr>\n",
       "      <th>11310</th>\n",
       "      <td>14361</td>\n",
       "      <td>Maruti Wagon R</td>\n",
       "      <td>Maruti</td>\n",
       "      <td>Wagon R</td>\n",
       "      <td>597000</td>\n",
       "      <td>604000</td>\n",
       "      <td>5</td>\n",
       "      <td>65000</td>\n",
       "      <td>Dealer</td>\n",
       "      <td>CNG</td>\n",
       "      <td>Manual</td>\n",
       "      <td>33</td>\n",
       "      <td>998</td>\n",
       "      <td>67</td>\n",
       "      <td>5</td>\n",
       "      <td>310000</td>\n",
       "    </tr>\n",
       "    <tr>\n",
       "      <th>13841</th>\n",
       "      <td>17567</td>\n",
       "      <td>Maruti Alto</td>\n",
       "      <td>Maruti</td>\n",
       "      <td>Alto</td>\n",
       "      <td>357003</td>\n",
       "      <td>465401</td>\n",
       "      <td>3</td>\n",
       "      <td>59000</td>\n",
       "      <td>Dealer</td>\n",
       "      <td>CNG</td>\n",
       "      <td>Manual</td>\n",
       "      <td>33</td>\n",
       "      <td>796</td>\n",
       "      <td>40</td>\n",
       "      <td>4</td>\n",
       "      <td>300000</td>\n",
       "    </tr>\n",
       "    <tr>\n",
       "      <th>1250</th>\n",
       "      <td>1606</td>\n",
       "      <td>Maruti Wagon R</td>\n",
       "      <td>Maruti</td>\n",
       "      <td>Wagon R</td>\n",
       "      <td>597000</td>\n",
       "      <td>604000</td>\n",
       "      <td>4</td>\n",
       "      <td>32013</td>\n",
       "      <td>Trustmark Dealer</td>\n",
       "      <td>CNG</td>\n",
       "      <td>Manual</td>\n",
       "      <td>33</td>\n",
       "      <td>998</td>\n",
       "      <td>67</td>\n",
       "      <td>5</td>\n",
       "      <td>380000</td>\n",
       "    </tr>\n",
       "    <tr>\n",
       "      <th>10303</th>\n",
       "      <td>13152</td>\n",
       "      <td>Maruti Wagon R</td>\n",
       "      <td>Maruti</td>\n",
       "      <td>Wagon R</td>\n",
       "      <td>597000</td>\n",
       "      <td>604000</td>\n",
       "      <td>9</td>\n",
       "      <td>71000</td>\n",
       "      <td>Dealer</td>\n",
       "      <td>CNG</td>\n",
       "      <td>Manual</td>\n",
       "      <td>33</td>\n",
       "      <td>998</td>\n",
       "      <td>67</td>\n",
       "      <td>5</td>\n",
       "      <td>275000</td>\n",
       "    </tr>\n",
       "    <tr>\n",
       "      <th>2364</th>\n",
       "      <td>3019</td>\n",
       "      <td>Maruti Wagon R</td>\n",
       "      <td>Maruti</td>\n",
       "      <td>Wagon R</td>\n",
       "      <td>609000</td>\n",
       "      <td>617000</td>\n",
       "      <td>8</td>\n",
       "      <td>63000</td>\n",
       "      <td>Dealer</td>\n",
       "      <td>CNG</td>\n",
       "      <td>Manual</td>\n",
       "      <td>33</td>\n",
       "      <td>998</td>\n",
       "      <td>67</td>\n",
       "      <td>5</td>\n",
       "      <td>351000</td>\n",
       "    </tr>\n",
       "  </tbody>\n",
       "</table>\n",
       "</div>"
      ],
      "text/plain": [
       "       Unnamed: 0        car_name   brand    model  min_cost_price  \\\n",
       "11727       14883  Maruti Wagon R  Maruti  Wagon R          545348   \n",
       "12259       15540     Maruti Alto  Maruti     Alto          497000   \n",
       "12696       16102  Maruti Wagon R  Maruti  Wagon R          610000   \n",
       "9960        12746  Maruti Wagon R  Maruti  Wagon R          545348   \n",
       "13800       17518     Maruti Alto  Maruti     Alto          497000   \n",
       "11310       14361  Maruti Wagon R  Maruti  Wagon R          597000   \n",
       "13841       17567     Maruti Alto  Maruti     Alto          357003   \n",
       "1250         1606  Maruti Wagon R  Maruti  Wagon R          597000   \n",
       "10303       13152  Maruti Wagon R  Maruti  Wagon R          597000   \n",
       "2364         3019  Maruti Wagon R  Maruti  Wagon R          609000   \n",
       "\n",
       "       max_cost_price  vehicle_age  km_driven       seller_type fuel_type  \\\n",
       "11727          691769            4      30000        Individual       CNG   \n",
       "12259          502000            4      20700            Dealer       CNG   \n",
       "12696          618000            5      53000            Dealer       CNG   \n",
       "9960           691769            3      55000            Dealer       CNG   \n",
       "13800          502000            5      77658            Dealer       CNG   \n",
       "11310          604000            5      65000            Dealer       CNG   \n",
       "13841          465401            3      59000            Dealer       CNG   \n",
       "1250           604000            4      32013  Trustmark Dealer       CNG   \n",
       "10303          604000            9      71000            Dealer       CNG   \n",
       "2364           617000            8      63000            Dealer       CNG   \n",
       "\n",
       "      transmission_type  mileage  engine  max_power  seats  selling_price  \n",
       "11727            Manual       33     998         67      5         450000  \n",
       "12259            Manual       33     796         40      4         381000  \n",
       "12696            Manual       33     998         67      5         380000  \n",
       "9960             Manual       33     998         67      5         380000  \n",
       "13800            Manual       33     796         40      4         325000  \n",
       "11310            Manual       33     998         67      5         310000  \n",
       "13841            Manual       33     796         40      4         300000  \n",
       "1250             Manual       33     998         67      5         380000  \n",
       "10303            Manual       33     998         67      5         275000  \n",
       "2364             Manual       33     998         67      5         351000  "
      ]
     },
     "execution_count": 68,
     "metadata": {},
     "output_type": "execute_result"
    }
   ],
   "source": [
    "df.sort_values(by=['mileage'], ascending = False).head(10)"
   ]
  },
  {
   "cell_type": "markdown",
   "id": "9bfc5d19",
   "metadata": {},
   "source": [
    "**The Maruti Wagon R and the Maruti Alto dominates in the average mileage category.**"
   ]
  },
  {
   "cell_type": "code",
   "execution_count": 69,
   "id": "f1022f99",
   "metadata": {},
   "outputs": [
    {
     "data": {
      "text/plain": [
       "Petrol    563\n",
       "CNG       123\n",
       "LPG        31\n",
       "Name: fuel_type, dtype: int64"
      ]
     },
     "execution_count": 69,
     "metadata": {},
     "output_type": "execute_result"
    }
   ],
   "source": [
    "df[df['car_name'] == 'Maruti Wagon R']['fuel_type'].value_counts()"
   ]
  },
  {
   "cell_type": "code",
   "execution_count": 70,
   "id": "5a1328dc",
   "metadata": {},
   "outputs": [
    {
     "data": {
      "text/plain": [
       "fuel_type\n",
       "CNG       28.00000\n",
       "LPG       18.16129\n",
       "Petrol    19.25222\n",
       "Name: mileage, dtype: float64"
      ]
     },
     "execution_count": 70,
     "metadata": {},
     "output_type": "execute_result"
    }
   ],
   "source": [
    "df[df['car_name'] == 'Maruti Wagon R'].groupby(['fuel_type'])['mileage'].mean()"
   ]
  },
  {
   "cell_type": "markdown",
   "id": "109e9623",
   "metadata": {},
   "source": [
    "**There are more petrol Maruti Wagon R cars, but the highest mileage is given by the CNG type fuel.**"
   ]
  },
  {
   "cell_type": "markdown",
   "id": "46d2b880",
   "metadata": {},
   "source": [
    "## 6. Comparision between dominating car models"
   ]
  },
  {
   "cell_type": "code",
   "execution_count": 71,
   "id": "6ce811bf",
   "metadata": {},
   "outputs": [
    {
     "data": {
      "image/png": "[encoded data removed]",
      "text/plain": [
       "<Figure size 432x288 with 1 Axes>"
      ]
     },
     "metadata": {
      "needs_background": "light"
     },
     "output_type": "display_data"
    }
   ],
   "source": [
    "# Comparison between dominated cars in the selling market\n",
    "\n",
    "plt.bar(['Hyundai i20', 'Maruti Wagon R', 'Maruti Alto'],\n",
    "        [df[df['car_name'] == 'Hyundai i20']['vehicle_age'].mean(),\n",
    "         df[df['car_name'] == 'Maruti Wagon R']['vehicle_age'].mean(),\n",
    "         df[df['car_name'] == 'Maruti Alto']['vehicle_age'].mean()])\n",
    "\n",
    "plt.xlabel('Car model', fontdict = font2)\n",
    "plt.ylabel('Average Vehicle Age', fontdict = font2)\n",
    "plt.show()\n",
    "\n",
    "# The plot shows the average age of Dominated car models"
   ]
  },
  {
   "cell_type": "code",
   "execution_count": 72,
   "id": "0d6b77f9",
   "metadata": {},
   "outputs": [
    {
     "data": {
      "image/png": "[encoded data removed]",
      "text/plain": [
       "<Figure size 432x288 with 1 Axes>"
      ]
     },
     "metadata": {
      "needs_background": "light"
     },
     "output_type": "display_data"
    }
   ],
   "source": [
    "df[df['car_name'] == 'Hyundai i20']['seller_type'].value_counts().plot(kind = 'bar')\n",
    "\n",
    "plt.xlabel('Seller Type', fontdict=font2)\n",
    "plt.ylabel('Count', fontdict=font2)\n",
    "\n",
    "plt.show()"
   ]
  },
  {
   "cell_type": "markdown",
   "id": "e4a34e4f",
   "metadata": {},
   "source": [
    "Large number of Hyundai i20 car models are sold by Dealers."
   ]
  },
  {
   "cell_type": "code",
   "execution_count": 73,
   "id": "0032d6bf",
   "metadata": {},
   "outputs": [
    {
     "data": {
      "text/plain": [
       "Text(0, 0.5, 'Count')"
      ]
     },
     "execution_count": 73,
     "metadata": {},
     "output_type": "execute_result"
    },
    {
     "data": {
      "image/png": "[encoded data removed]",
      "text/plain": [
       "<Figure size 432x288 with 1 Axes>"
      ]
     },
     "metadata": {
      "needs_background": "light"
     },
     "output_type": "display_data"
    }
   ],
   "source": [
    "df[df['car_name'] == 'Maruti Wagon R']['seller_type'].value_counts().plot(kind = 'bar')\n",
    "plt.xlabel(\"Seller Type\", fontdict=font2)\n",
    "plt.ylabel(\"Count\", fontdict=font2)"
   ]
  },
  {
   "cell_type": "markdown",
   "id": "0b5a32cb",
   "metadata": {},
   "source": [
    "Large number of Maruti Wagon R car models are sold by Dealers."
   ]
  },
  {
   "cell_type": "code",
   "execution_count": 74,
   "id": "453831a3",
   "metadata": {},
   "outputs": [
    {
     "data": {
      "text/plain": [
       "Text(0, 0.5, 'Count')"
      ]
     },
     "execution_count": 74,
     "metadata": {},
     "output_type": "execute_result"
    },
    {
     "data": {
      "image/png": "[encoded data removed]",
      "text/plain": [
       "<Figure size 432x288 with 1 Axes>"
      ]
     },
     "metadata": {
      "needs_background": "light"
     },
     "output_type": "display_data"
    }
   ],
   "source": [
    "df[df['car_name'] == 'Maruti Alto']['seller_type'].value_counts().plot(kind = 'bar')\n",
    "plt.xlabel(\"Seller Type\", fontdict=font2)\n",
    "plt.ylabel(\"Count\", fontdict=font2)"
   ]
  },
  {
   "cell_type": "markdown",
   "id": "a43649ca",
   "metadata": {},
   "source": [
    "Large number of Maruti Wagon R car models are sold by Individuals."
   ]
  },
  {
   "cell_type": "markdown",
   "id": "f5411a33",
   "metadata": {},
   "source": [
    "### Maruti WagonR and Alto are giving the best mileage = 33.54 kms/lit as they are in top 6 sold cars.\n",
    "### Top selling Hyundai i20 gives mileage around 20 kms/lit with maximum at 25 kms/lit.\n",
    "### Inspite of less mileage i20 is top selling maybe due to less average vehicle age = 5.83 compared to WagonR = 7.83 and Alto = 7.43."
   ]
  },
  {
   "cell_type": "markdown",
   "id": "372ad8fb",
   "metadata": {},
   "source": [
    "## 7. Automatic vs Manual Transmission"
   ]
  },
  {
   "cell_type": "code",
   "execution_count": 75,
   "id": "ec14ad19",
   "metadata": {},
   "outputs": [
    {
     "data": {
      "image/png": "[encoded data removed]",
      "text/plain": [
       "<Figure size 432x288 with 1 Axes>"
      ]
     },
     "metadata": {
      "needs_background": "light"
     },
     "output_type": "display_data"
    }
   ],
   "source": [
    "sns.scatterplot(data = df, x = df.mileage, y = df.km_driven, hue = df.transmission_type)\n",
    "plt.show()"
   ]
  },
  {
   "cell_type": "markdown",
   "id": "5e8039ad",
   "metadata": {},
   "source": [
    "**The plot above tells us that there are more cars with manual transmission that gives highest mileage.**"
   ]
  },
  {
   "cell_type": "code",
   "execution_count": 76,
   "id": "1a8454ce",
   "metadata": {},
   "outputs": [
    {
     "data": {
      "image/png": "[encoded data removed]",
      "text/plain": [
       "<Figure size 432x288 with 1 Axes>"
      ]
     },
     "metadata": {
      "needs_background": "light"
     },
     "output_type": "display_data"
    }
   ],
   "source": [
    "sns.scatterplot(data = df, x = df.vehicle_age, y = df.mileage)\n",
    "plt.show()"
   ]
  },
  {
   "cell_type": "markdown",
   "id": "d163d546",
   "metadata": {},
   "source": [
    "**From the plot above we can say that Mileage decreases as vehicle age increases. This is quite natural as years go, the parts get weared out and its efficiency will decrease gradually**"
   ]
  },
  {
   "cell_type": "markdown",
   "id": "539e9dc2",
   "metadata": {},
   "source": [
    "---"
   ]
  },
  {
   "cell_type": "markdown",
   "id": "38609c0e",
   "metadata": {},
   "source": [
    "# Model Training"
   ]
  },
  {
   "cell_type": "code",
   "execution_count": 77,
   "id": "88a6d6dd",
   "metadata": {},
   "outputs": [],
   "source": [
    "# Features to Train\n",
    "X = df.drop(columns=['selling_price','Unnamed: 0'])\n",
    "\n",
    "#Label data\n",
    "y=df['selling_price']"
   ]
  },
  {
   "cell_type": "code",
   "execution_count": 78,
   "id": "05fd3128",
   "metadata": {},
   "outputs": [
    {
     "data": {
      "text/html": [
       "<div>\n",
       "<style scoped>\n",
       "    .dataframe tbody tr th:only-of-type {\n",
       "        vertical-align: middle;\n",
       "    }\n",
       "\n",
       "    .dataframe tbody tr th {\n",
       "        vertical-align: top;\n",
       "    }\n",
       "\n",
       "    .dataframe thead th {\n",
       "        text-align: right;\n",
       "    }\n",
       "</style>\n",
       "<table border=\"1\" class=\"dataframe\">\n",
       "  <thead>\n",
       "    <tr style=\"text-align: right;\">\n",
       "      <th></th>\n",
       "      <th>car_name</th>\n",
       "      <th>brand</th>\n",
       "      <th>model</th>\n",
       "      <th>min_cost_price</th>\n",
       "      <th>max_cost_price</th>\n",
       "      <th>vehicle_age</th>\n",
       "      <th>km_driven</th>\n",
       "      <th>seller_type</th>\n",
       "      <th>fuel_type</th>\n",
       "      <th>transmission_type</th>\n",
       "      <th>mileage</th>\n",
       "      <th>engine</th>\n",
       "      <th>max_power</th>\n",
       "      <th>seats</th>\n",
       "    </tr>\n",
       "  </thead>\n",
       "  <tbody>\n",
       "    <tr>\n",
       "      <th>0</th>\n",
       "      <td>Maruti Alto</td>\n",
       "      <td>Maruti</td>\n",
       "      <td>Alto</td>\n",
       "      <td>357003</td>\n",
       "      <td>465401</td>\n",
       "      <td>9</td>\n",
       "      <td>120000</td>\n",
       "      <td>Individual</td>\n",
       "      <td>Petrol</td>\n",
       "      <td>Manual</td>\n",
       "      <td>19</td>\n",
       "      <td>796</td>\n",
       "      <td>46</td>\n",
       "      <td>5</td>\n",
       "    </tr>\n",
       "    <tr>\n",
       "      <th>1</th>\n",
       "      <td>Hyundai Grand</td>\n",
       "      <td>Hyundai</td>\n",
       "      <td>Grand</td>\n",
       "      <td>711000</td>\n",
       "      <td>748000</td>\n",
       "      <td>5</td>\n",
       "      <td>20000</td>\n",
       "      <td>Individual</td>\n",
       "      <td>Petrol</td>\n",
       "      <td>Manual</td>\n",
       "      <td>18</td>\n",
       "      <td>1197</td>\n",
       "      <td>82</td>\n",
       "      <td>5</td>\n",
       "    </tr>\n",
       "    <tr>\n",
       "      <th>2</th>\n",
       "      <td>Hyundai i20</td>\n",
       "      <td>Hyundai</td>\n",
       "      <td>i20</td>\n",
       "      <td>854082</td>\n",
       "      <td>1307925</td>\n",
       "      <td>11</td>\n",
       "      <td>60000</td>\n",
       "      <td>Individual</td>\n",
       "      <td>Petrol</td>\n",
       "      <td>Manual</td>\n",
       "      <td>17</td>\n",
       "      <td>1197</td>\n",
       "      <td>80</td>\n",
       "      <td>5</td>\n",
       "    </tr>\n",
       "    <tr>\n",
       "      <th>3</th>\n",
       "      <td>Maruti Alto</td>\n",
       "      <td>Maruti</td>\n",
       "      <td>Alto</td>\n",
       "      <td>357003</td>\n",
       "      <td>465401</td>\n",
       "      <td>9</td>\n",
       "      <td>37000</td>\n",
       "      <td>Individual</td>\n",
       "      <td>Petrol</td>\n",
       "      <td>Manual</td>\n",
       "      <td>20</td>\n",
       "      <td>998</td>\n",
       "      <td>67</td>\n",
       "      <td>5</td>\n",
       "    </tr>\n",
       "    <tr>\n",
       "      <th>4</th>\n",
       "      <td>Ford Ecosport</td>\n",
       "      <td>Ford</td>\n",
       "      <td>Ecosport</td>\n",
       "      <td>1014000</td>\n",
       "      <td>1379000</td>\n",
       "      <td>6</td>\n",
       "      <td>30000</td>\n",
       "      <td>Dealer</td>\n",
       "      <td>Diesel</td>\n",
       "      <td>Manual</td>\n",
       "      <td>22</td>\n",
       "      <td>1498</td>\n",
       "      <td>98</td>\n",
       "      <td>5</td>\n",
       "    </tr>\n",
       "    <tr>\n",
       "      <th>...</th>\n",
       "      <td>...</td>\n",
       "      <td>...</td>\n",
       "      <td>...</td>\n",
       "      <td>...</td>\n",
       "      <td>...</td>\n",
       "      <td>...</td>\n",
       "      <td>...</td>\n",
       "      <td>...</td>\n",
       "      <td>...</td>\n",
       "      <td>...</td>\n",
       "      <td>...</td>\n",
       "      <td>...</td>\n",
       "      <td>...</td>\n",
       "      <td>...</td>\n",
       "    </tr>\n",
       "    <tr>\n",
       "      <th>15406</th>\n",
       "      <td>Hyundai i10</td>\n",
       "      <td>Hyundai</td>\n",
       "      <td>i10</td>\n",
       "      <td>698320</td>\n",
       "      <td>729333</td>\n",
       "      <td>9</td>\n",
       "      <td>10723</td>\n",
       "      <td>Dealer</td>\n",
       "      <td>Petrol</td>\n",
       "      <td>Manual</td>\n",
       "      <td>19</td>\n",
       "      <td>1086</td>\n",
       "      <td>68</td>\n",
       "      <td>5</td>\n",
       "    </tr>\n",
       "    <tr>\n",
       "      <th>15407</th>\n",
       "      <td>Maruti Ertiga</td>\n",
       "      <td>Maruti</td>\n",
       "      <td>Ertiga</td>\n",
       "      <td>926776</td>\n",
       "      <td>1149968</td>\n",
       "      <td>2</td>\n",
       "      <td>18000</td>\n",
       "      <td>Dealer</td>\n",
       "      <td>Petrol</td>\n",
       "      <td>Manual</td>\n",
       "      <td>17</td>\n",
       "      <td>1373</td>\n",
       "      <td>91</td>\n",
       "      <td>7</td>\n",
       "    </tr>\n",
       "    <tr>\n",
       "      <th>15408</th>\n",
       "      <td>Skoda Rapid</td>\n",
       "      <td>Skoda</td>\n",
       "      <td>Rapid</td>\n",
       "      <td>892632</td>\n",
       "      <td>1563551</td>\n",
       "      <td>6</td>\n",
       "      <td>67000</td>\n",
       "      <td>Dealer</td>\n",
       "      <td>Diesel</td>\n",
       "      <td>Manual</td>\n",
       "      <td>21</td>\n",
       "      <td>1498</td>\n",
       "      <td>103</td>\n",
       "      <td>5</td>\n",
       "    </tr>\n",
       "    <tr>\n",
       "      <th>15409</th>\n",
       "      <td>Mahindra XUV500</td>\n",
       "      <td>Mahindra</td>\n",
       "      <td>XUV500</td>\n",
       "      <td>1783000</td>\n",
       "      <td>2491000</td>\n",
       "      <td>5</td>\n",
       "      <td>3800000</td>\n",
       "      <td>Dealer</td>\n",
       "      <td>Diesel</td>\n",
       "      <td>Manual</td>\n",
       "      <td>16</td>\n",
       "      <td>2179</td>\n",
       "      <td>140</td>\n",
       "      <td>7</td>\n",
       "    </tr>\n",
       "    <tr>\n",
       "      <th>15410</th>\n",
       "      <td>Honda City</td>\n",
       "      <td>Honda</td>\n",
       "      <td>City</td>\n",
       "      <td>1330978</td>\n",
       "      <td>1707437</td>\n",
       "      <td>2</td>\n",
       "      <td>13000</td>\n",
       "      <td>Dealer</td>\n",
       "      <td>Petrol</td>\n",
       "      <td>Automatic</td>\n",
       "      <td>18</td>\n",
       "      <td>1497</td>\n",
       "      <td>117</td>\n",
       "      <td>5</td>\n",
       "    </tr>\n",
       "  </tbody>\n",
       "</table>\n",
       "<p>14659 rows × 14 columns</p>\n",
       "</div>"
      ],
      "text/plain": [
       "              car_name     brand     model  min_cost_price  max_cost_price  \\\n",
       "0          Maruti Alto    Maruti      Alto          357003          465401   \n",
       "1        Hyundai Grand   Hyundai     Grand          711000          748000   \n",
       "2          Hyundai i20   Hyundai       i20          854082         1307925   \n",
       "3          Maruti Alto    Maruti      Alto          357003          465401   \n",
       "4        Ford Ecosport      Ford  Ecosport         1014000         1379000   \n",
       "...                ...       ...       ...             ...             ...   \n",
       "15406      Hyundai i10   Hyundai       i10          698320          729333   \n",
       "15407    Maruti Ertiga    Maruti    Ertiga          926776         1149968   \n",
       "15408      Skoda Rapid     Skoda     Rapid          892632         1563551   \n",
       "15409  Mahindra XUV500  Mahindra    XUV500         1783000         2491000   \n",
       "15410       Honda City     Honda      City         1330978         1707437   \n",
       "\n",
       "       vehicle_age  km_driven seller_type fuel_type transmission_type  \\\n",
       "0                9     120000  Individual    Petrol            Manual   \n",
       "1                5      20000  Individual    Petrol            Manual   \n",
       "2               11      60000  Individual    Petrol            Manual   \n",
       "3                9      37000  Individual    Petrol            Manual   \n",
       "4                6      30000      Dealer    Diesel            Manual   \n",
       "...            ...        ...         ...       ...               ...   \n",
       "15406            9      10723      Dealer    Petrol            Manual   \n",
       "15407            2      18000      Dealer    Petrol            Manual   \n",
       "15408            6      67000      Dealer    Diesel            Manual   \n",
       "15409            5    3800000      Dealer    Diesel            Manual   \n",
       "15410            2      13000      Dealer    Petrol         Automatic   \n",
       "\n",
       "       mileage  engine  max_power  seats  \n",
       "0           19     796         46      5  \n",
       "1           18    1197         82      5  \n",
       "2           17    1197         80      5  \n",
       "3           20     998         67      5  \n",
       "4           22    1498         98      5  \n",
       "...        ...     ...        ...    ...  \n",
       "15406       19    1086         68      5  \n",
       "15407       17    1373         91      7  \n",
       "15408       21    1498        103      5  \n",
       "15409       16    2179        140      7  \n",
       "15410       18    1497        117      5  \n",
       "\n",
       "[14659 rows x 14 columns]"
      ]
     },
     "execution_count": 78,
     "metadata": {},
     "output_type": "execute_result"
    }
   ],
   "source": [
    "X"
   ]
  },
  {
   "cell_type": "code",
   "execution_count": 79,
   "id": "c1a1b4d3",
   "metadata": {},
   "outputs": [
    {
     "data": {
      "text/plain": [
       "Index(['car_name', 'brand', 'model', 'min_cost_price', 'max_cost_price',\n",
       "       'vehicle_age', 'km_driven', 'seller_type', 'fuel_type',\n",
       "       'transmission_type', 'mileage', 'engine', 'max_power', 'seats'],\n",
       "      dtype='object')"
      ]
     },
     "execution_count": 79,
     "metadata": {},
     "output_type": "execute_result"
    }
   ],
   "source": [
    "X.columns"
   ]
  },
  {
   "cell_type": "markdown",
   "id": "c0b23063",
   "metadata": {},
   "source": [
    "## Train-Test Split"
   ]
  },
  {
   "cell_type": "code",
   "execution_count": 80,
   "id": "2a61b073",
   "metadata": {},
   "outputs": [],
   "source": [
    "#perform the train test split\n",
    "from sklearn.model_selection import train_test_split\n",
    "X_train, X_test, y_train, y_test = train_test_split(X, y, test_size=0.2)"
   ]
  },
  {
   "cell_type": "code",
   "execution_count": 81,
   "id": "4f9892d8",
   "metadata": {},
   "outputs": [],
   "source": [
    "#import the linear regression module from linear model in sklearn\n",
    "from sklearn.linear_model import LinearRegression\n",
    "\n",
    "#import r2 score for evaluating the performance of the linear model\n",
    "from sklearn.metrics import r2_score\n",
    "\n",
    "#import one hot encoder for coversion of categorical values to dummies\n",
    "from sklearn.preprocessing import OneHotEncoder"
   ]
  },
  {
   "cell_type": "markdown",
   "id": "3770f92b",
   "metadata": {},
   "source": [
    "### OneHotEncoding"
   ]
  },
  {
   "cell_type": "code",
   "execution_count": 82,
   "id": "4c7d6d26",
   "metadata": {},
   "outputs": [
    {
     "data": {
      "text/plain": [
       "OneHotEncoder()"
      ]
     },
     "execution_count": 82,
     "metadata": {},
     "output_type": "execute_result"
    }
   ],
   "source": [
    "# Create object for one hot encoder\n",
    "ohe = OneHotEncoder()\n",
    "ohe.fit(X[['car_name', 'brand', 'model', 'seller_type', 'fuel_type',\n",
    "       'transmission_type']])"
   ]
  },
  {
   "cell_type": "code",
   "execution_count": 83,
   "id": "44aa38fb",
   "metadata": {},
   "outputs": [],
   "source": [
    "#import column transformer to process the column\n",
    "from sklearn.compose import make_column_transformer\n",
    "\n",
    "# import pipeline to auto perform the methods\n",
    "from sklearn.pipeline import make_pipeline"
   ]
  },
  {
   "cell_type": "code",
   "execution_count": 84,
   "id": "8c9dc81c",
   "metadata": {},
   "outputs": [],
   "source": [
    "column_trans = make_column_transformer((OneHotEncoder(categories=ohe.categories_), ['car_name', 'brand', 'model', 'seller_type', 'fuel_type',\n",
    "       'transmission_type']), remainder='passthrough')"
   ]
  },
  {
   "cell_type": "markdown",
   "id": "98345a1e",
   "metadata": {},
   "source": [
    "## Linear Regression Model"
   ]
  },
  {
   "cell_type": "code",
   "execution_count": 85,
   "id": "6a5c51d8",
   "metadata": {},
   "outputs": [],
   "source": [
    "lr=LinearRegression()"
   ]
  },
  {
   "cell_type": "code",
   "execution_count": 86,
   "id": "1012b240",
   "metadata": {},
   "outputs": [],
   "source": [
    "pipe = make_pipeline(column_trans, lr)"
   ]
  },
  {
   "cell_type": "code",
   "execution_count": 87,
   "id": "1933d12f",
   "metadata": {},
   "outputs": [
    {
     "data": {
      "text/plain": [
       "Pipeline(steps=[('columntransformer',\n",
       "                 ColumnTransformer(remainder='passthrough',\n",
       "                                   transformers=[('onehotencoder',\n",
       "                                                  OneHotEncoder(categories=[array(['Audi A4', 'Audi A6', 'Audi Q7', 'BMW 3', 'BMW 5', 'BMW 6',\n",
       "       'BMW 7', 'BMW X1', 'BMW X3', 'BMW X5', 'Datsun GO',\n",
       "       'Datsun RediGO', 'Datsun redi-GO', 'Force Gurkha', 'Ford Aspire',\n",
       "       'Ford Ecosport', 'Ford Endeavour', 'Ford Figo', 'Ford Freestyle',\n",
       "       '...\n",
       "       'XL6', 'XUV300', 'XUV500', 'Yaris', 'i10', 'i20', 'redi-GO'],\n",
       "      dtype=object),\n",
       "                                                                            array(['Dealer', 'Individual', 'Trustmark Dealer'], dtype=object),\n",
       "                                                                            array(['CNG', 'Diesel', 'Electric', 'LPG', 'Petrol'], dtype=object),\n",
       "                                                                            array(['Automatic', 'Manual'], dtype=object)]),\n",
       "                                                  ['car_name', 'brand', 'model',\n",
       "                                                   'seller_type', 'fuel_type',\n",
       "                                                   'transmission_type'])])),\n",
       "                ('linearregression', LinearRegression())])"
      ]
     },
     "execution_count": 87,
     "metadata": {},
     "output_type": "execute_result"
    }
   ],
   "source": [
    "pipe.fit(X_train, y_train)"
   ]
  },
  {
   "cell_type": "markdown",
   "id": "ffe2c007",
   "metadata": {},
   "source": [
    "---"
   ]
  },
  {
   "cell_type": "markdown",
   "id": "c046f3ef",
   "metadata": {},
   "source": [
    "## Evaluating Model performance"
   ]
  },
  {
   "cell_type": "code",
   "execution_count": 88,
   "id": "ffdb076e",
   "metadata": {},
   "outputs": [],
   "source": [
    "y_pred = pipe.predict(X_test)"
   ]
  },
  {
   "cell_type": "code",
   "execution_count": 89,
   "id": "b03ce4bb",
   "metadata": {},
   "outputs": [
    {
     "data": {
      "text/plain": [
       "array([1273245.85306065,  643695.15332077,  765177.93872912, ...,\n",
       "        344683.93080042,  762625.62069951,  171220.24628462])"
      ]
     },
     "execution_count": 89,
     "metadata": {},
     "output_type": "execute_result"
    }
   ],
   "source": [
    "y_pred"
   ]
  },
  {
   "cell_type": "code",
   "execution_count": 90,
   "id": "0fbe8426",
   "metadata": {},
   "outputs": [
    {
     "data": {
      "text/plain": [
       "0.7046451737000861"
      ]
     },
     "execution_count": 90,
     "metadata": {},
     "output_type": "execute_result"
    }
   ],
   "source": [
    "#check r2 score\n",
    "r2_score(y_test, y_pred)"
   ]
  },
  {
   "cell_type": "code",
   "execution_count": 91,
   "id": "7ea1cc75",
   "metadata": {},
   "outputs": [],
   "source": [
    "# Make a loop to train the data to choose the best r2 score\n",
    "scores=[]\n",
    "for i in range(1000):\n",
    "    X_train,X_test, y_train, y_test = train_test_split(X,y,test_size=0.2, random_state=i)\n",
    "    lr=LinearRegression()\n",
    "    pipe=make_pipeline(column_trans,lr)\n",
    "    pipe.fit(X_train, y_train)\n",
    "    y_pred=pipe.predict(X_test)\n",
    "    scores.append(r2_score(y_test, y_pred))"
   ]
  },
  {
   "cell_type": "code",
   "execution_count": 92,
   "id": "7c8019fa",
   "metadata": {},
   "outputs": [
    {
     "data": {
      "text/plain": [
       "276"
      ]
     },
     "execution_count": 92,
     "metadata": {},
     "output_type": "execute_result"
    }
   ],
   "source": [
    "np.argmax(scores)"
   ]
  },
  {
   "cell_type": "code",
   "execution_count": 93,
   "id": "939cdbae",
   "metadata": {},
   "outputs": [
    {
     "data": {
      "text/plain": [
       "0.7612582733370059"
      ]
     },
     "execution_count": 93,
     "metadata": {},
     "output_type": "execute_result"
    }
   ],
   "source": [
    "scores[np.argmax(scores)]"
   ]
  },
  {
   "cell_type": "code",
   "execution_count": 94,
   "id": "2b6bbe19",
   "metadata": {},
   "outputs": [
    {
     "data": {
      "text/plain": [
       "0.7612582733370059"
      ]
     },
     "execution_count": 94,
     "metadata": {},
     "output_type": "execute_result"
    }
   ],
   "source": [
    "X_train,X_test, y_train, y_test = train_test_split(X,y,test_size=0.2, random_state=np.argmax(scores))\n",
    "lr=LinearRegression()\n",
    "pipe=make_pipeline(column_trans,lr)\n",
    "pipe.fit(X_train, y_train)\n",
    "y_pred=pipe.predict(X_test)  \n",
    "r2_score(y_test, y_pred)"
   ]
  },
  {
   "cell_type": "code",
   "execution_count": 95,
   "id": "a1fe02f4",
   "metadata": {},
   "outputs": [
    {
     "data": {
      "text/plain": [
       "array([957871.02327482])"
      ]
     },
     "execution_count": 95,
     "metadata": {},
     "output_type": "execute_result"
    }
   ],
   "source": [
    "pipe.predict(pd.DataFrame([['Maruti Alto', 'Maruti', 'Alto', 749000, 820000, 1, 18000, 'Individual', \n",
    "                           'Petrol', 'Automatic', 22, 1197, 113, 5]], columns=['car_name', 'brand', 'model', 'min_cost_price', 'max_cost_price',\n",
    "       'vehicle_age', 'km_driven', 'seller_type', 'fuel_type',\n",
    "       'transmission_type', 'mileage', 'engine', 'max_power', 'seats']))"
   ]
  },
  {
   "cell_type": "markdown",
   "id": "e5f13738",
   "metadata": {},
   "source": [
    "# Conclusion\n",
    "* The model has r2_score of 76.1%.\n",
    "* The model is well trained on the dataset and is able to predict price based on the different parameters and features of a car.\n",
    "* The model can compare the price with the car's new successor and give the price accordingly.\n",
    "* The model can identify the model/brand of the car and give the pricing according to the market of that model/brand.\n",
    "\n",
    "Training a perfect model to predict the price of a used car is a little bit challenging, there are different paramters one should look before coming up with a price for that car, features like Transmission Type, Engine Power, Mileage, Fuel Type and many more plays an important role in identifying the market value of a car. The brand of a car is the most important one, a car with low mileage, low engine power but with a high profile brand can have much larger value as compared to a car with high mileage, high power but with a low profile brand."
   ]
  },
  {
   "cell_type": "markdown",
   "id": "d5d34c5b",
   "metadata": {},
   "source": [
    "---"
   ]
  }
 ],
 "metadata": {
  "kernelspec": {
   "display_name": "Python 3",
   "language": "python",
   "name": "python3"
  },
  "language_info": {
   "codemirror_mode": {
    "name": "ipython",
    "version": 3
   },
   "file_extension": ".py",
   "mimetype": "text/x-python",
   "name": "python",
   "nbconvert_exporter": "python",
   "pygments_lexer": "ipython3",
   "version": "3.8.8"
  }
 },
 "nbformat": 4,
 "nbformat_minor": 5
}
